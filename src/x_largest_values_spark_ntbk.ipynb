{
 "cells": [
  {
   "cell_type": "code",
   "execution_count": 1,
   "metadata": {},
   "outputs": [
    {
     "name": "stdout",
     "output_type": "stream",
     "text": [
      "2024-09-28 15:11:44.890863\n"
     ]
    }
   ],
   "source": [
    "import logging\n",
    "from pyspark.sql import SparkSession\n",
    "from pyspark.sql.functions import col, dense_rank, desc\n",
    "from pyspark.sql.window import Window\n",
    "from datetime import datetime\n",
    "print(datetime.now())"
   ]
  },
  {
   "cell_type": "code",
   "execution_count": 2,
   "metadata": {},
   "outputs": [
    {
     "name": "stdout",
     "output_type": "stream",
     "text": [
      "Enter the value of N - to get top N values from data :\n",
      "5\n"
     ]
    }
   ],
   "source": [
    "try:\n",
    "    print(\"Enter the value of N - to get top N values from data :\")\n",
    "    x = input()\n",
    "    N = int(x)\n",
    "    print(N)\n",
    "except Exception as e:\n",
    "    print(e)"
   ]
  },
  {
   "cell_type": "code",
   "execution_count": 3,
   "metadata": {},
   "outputs": [],
   "source": [
    "spark = SparkSession.builder.appName(\"TopXIdentifiers\").getOrCreate()"
   ]
  },
  {
   "cell_type": "code",
   "execution_count": 4,
   "metadata": {},
   "outputs": [
    {
     "name": "stdout",
     "output_type": "stream",
     "text": [
      "+----------+------+\n",
      "|        id| value|\n",
      "+----------+------+\n",
      "|3427198889|130732|\n",
      "|6234259071|823830|\n",
      "+----------+------+\n",
      "only showing top 2 rows\n",
      "\n"
     ]
    }
   ],
   "source": [
    "schema = \"id string,value int\"\n",
    "startlog = datetime.now()\n",
    "df = spark.read.csv(\n",
    "        \"C:/Users/Champ/OneDrive/Documents/Dinesh/DE/Woven_Toyota/heapq_benchmark/data/test_data.txt\",\n",
    "        sep=\" \",\n",
    "        schema=schema,\n",
    "    )\n",
    "df = df.dropna()\n",
    "df.show(2)"
   ]
  },
  {
   "cell_type": "code",
   "execution_count": 5,
   "metadata": {},
   "outputs": [
    {
     "name": "stdout",
     "output_type": "stream",
     "text": [
      "+----------+-------+----------+\n",
      "|        id|  value|Value_Rank|\n",
      "+----------+-------+----------+\n",
      "|6336483802|1000000|         1|\n",
      "|6239337414|1000000|         1|\n",
      "|9292160274| 999999|         2|\n",
      "|1392502010| 999999|         2|\n",
      "|8873276547| 999997|         3|\n",
      "+----------+-------+----------+\n",
      "only showing top 5 rows\n",
      "\n"
     ]
    }
   ],
   "source": [
    "windowSpec = Window.orderBy(desc(\"value\"))\n",
    "df_ordered = df.withColumn(\"Value_Rank\",dense_rank().over(windowSpec))\n",
    "df_ordered.show(5)"
   ]
  },
  {
   "cell_type": "code",
   "execution_count": 6,
   "metadata": {},
   "outputs": [
    {
     "name": "stdout",
     "output_type": "stream",
     "text": [
      "+----------+-------+\n",
      "|        id|  value|\n",
      "+----------+-------+\n",
      "|6336483802|1000000|\n",
      "|6239337414|1000000|\n",
      "|9292160274| 999999|\n",
      "|1392502010| 999999|\n",
      "|8873276547| 999997|\n",
      "+----------+-------+\n",
      "only showing top 5 rows\n",
      "\n"
     ]
    }
   ],
   "source": [
    "df_final = df_ordered.filter(f\"Value_rank<={N}\").select(\"id\",\"value\")\n",
    "df_final.show(N)\n"
   ]
  },
  {
   "cell_type": "code",
   "execution_count": 7,
   "metadata": {},
   "outputs": [
    {
     "name": "stdout",
     "output_type": "stream",
     "text": [
      "2024-09-28 15:12:04.916469\n",
      "Total processing time: 0:00:10.850619\n"
     ]
    }
   ],
   "source": [
    "endlog = datetime.now()\n",
    "print(datetime.now())\n",
    "total_processing_time = endlog - startlog\n",
    "print(f\"Total processing time: {total_processing_time}\")"
   ]
  }
 ],
 "metadata": {
  "kernelspec": {
   "display_name": "base",
   "language": "python",
   "name": "python3"
  },
  "language_info": {
   "codemirror_mode": {
    "name": "ipython",
    "version": 3
   },
   "file_extension": ".py",
   "mimetype": "text/x-python",
   "name": "python",
   "nbconvert_exporter": "python",
   "pygments_lexer": "ipython3",
   "version": "3.11.5"
  }
 },
 "nbformat": 4,
 "nbformat_minor": 2
}
